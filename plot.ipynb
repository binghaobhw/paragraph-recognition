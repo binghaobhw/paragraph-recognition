{
 "metadata": {
  "name": "",
  "signature": "sha256:c6f9f8d762de788811daee12435895c19926a2cf1543f7ae4bd20820ca3c953d"
 },
 "nbformat": 3,
 "nbformat_minor": 0,
 "worksheets": [
  {
   "cells": [
    {
     "cell_type": "code",
     "collapsed": false,
     "input": [
      "cd /workspace/paragraph-recognition/"
     ],
     "language": "python",
     "metadata": {},
     "outputs": [
      {
       "output_type": "stream",
       "stream": "stdout",
       "text": [
        "D:\\workspace\\paragraph-recognition\n"
       ]
      }
     ],
     "prompt_number": 1
    },
    {
     "cell_type": "code",
     "collapsed": false,
     "input": [
      "import experiment as e"
     ],
     "language": "python",
     "metadata": {},
     "outputs": [],
     "prompt_number": 2
    },
    {
     "cell_type": "code",
     "collapsed": false,
     "input": [
      "result = e.evaluate('data/result.txt', 'data/label.txt')"
     ],
     "language": "python",
     "metadata": {},
     "outputs": [],
     "prompt_number": 3
    },
    {
     "cell_type": "code",
     "collapsed": false,
     "input": [
      "import json"
     ],
     "language": "python",
     "metadata": {},
     "outputs": [],
     "prompt_number": 4
    },
    {
     "cell_type": "code",
     "collapsed": false,
     "input": [
      "print json.dumps(result, indent=4)"
     ],
     "language": "python",
     "metadata": {},
     "outputs": [
      {
       "output_type": "stream",
       "stream": "stdout",
       "text": [
        "{\n",
        "    \"new\": {\n",
        "        \"new\": 53, \n",
        "        \"F1\": 0.7019867549668874, \n",
        "        \"R\": 0.6883116883116883, \n",
        "        \"P\": 0.7162162162162162, \n",
        "        \"follow\": 21\n",
        "    }, \n",
        "    \"all\": {\n",
        "        \"false\": 45, \n",
        "        \"true\": 86, \n",
        "        \"P\": 0.6564885496183206\n",
        "    }, \n",
        "    \"follow\": {\n",
        "        \"new\": 24, \n",
        "        \"F1\": 0.5945945945945946, \n",
        "        \"R\": 0.6111111111111112, \n",
        "        \"P\": 0.5789473684210527, \n",
        "        \"follow\": 33\n",
        "    }\n",
        "}\n"
       ]
      }
     ],
     "prompt_number": 5
    }
   ],
   "metadata": {}
  }
 ]
}