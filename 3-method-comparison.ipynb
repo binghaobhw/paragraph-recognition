{
 "metadata": {
  "name": "",
  "signature": "sha256:ddcb14e792c54ccfcc0420a615e8ffd33ef92d78f167efd57db47d1717e6033d"
 },
 "nbformat": 3,
 "nbformat_minor": 0,
 "worksheets": [
  {
   "cells": [
    {
     "cell_type": "code",
     "collapsed": false,
     "input": [
      "import experiment as e\n",
      "import method as m\n",
      "import json"
     ],
     "language": "python",
     "metadata": {},
     "outputs": [],
     "prompt_number": 1
    },
    {
     "cell_type": "code",
     "collapsed": false,
     "input": [
      "m.configure(e.method_config)"
     ],
     "language": "python",
     "metadata": {},
     "outputs": [],
     "prompt_number": 2
    },
    {
     "cell_type": "code",
     "collapsed": false,
     "input": [
      "result = {}\n",
      "for method_name in m.methods.iterkeys():\n",
      "    result[method_name] = e.k_fold_cross(5, 355, method_name, 'comparison')"
     ],
     "language": "python",
     "metadata": {},
     "outputs": [],
     "prompt_number": 3
    },
    {
     "cell_type": "code",
     "collapsed": false,
     "input": [
      "for i in result:\n",
      "    print i, json.dumps(result[i]['average'], indent=4)"
     ],
     "language": "python",
     "metadata": {},
     "outputs": [
      {
       "output_type": "stream",
       "stream": "stdout",
       "text": [
        "fan_yang {\n",
        "    \"new\": {\n",
        "        \"P\": 0.6804237433099043, \n",
        "        \"R\": 0.544778669043375, \n",
        "        \"F1\": 0.597671005587534\n",
        "    }, \n",
        "    \"all\": {\n",
        "        \"P\": 0.5849632534537015\n",
        "    }, \n",
        "    \"follow\": {\n",
        "        \"P\": 0.5078864769785486, \n",
        "        \"R\": 0.6366197183098592, \n",
        "        \"F1\": 0.5602783613232948\n",
        "    }\n",
        "}\n",
        "my_method {\n",
        "    \"new\": {\n",
        "        \"P\": 0.8239187169419727, \n",
        "        \"R\": 0.7105020796197267, \n",
        "        \"F1\": 0.7620422675205492\n",
        "    }, \n",
        "    \"all\": {\n",
        "        \"P\": 0.744512420182186\n",
        "    }, \n",
        "    \"follow\": {\n",
        "        \"P\": 0.6681678645771966, \n",
        "        \"R\": 0.7915492957746479, \n",
        "        \"F1\": 0.7236741124903942\n",
        "    }\n",
        "}\n",
        "de_boni {\n",
        "    \"new\": {\n",
        "        \"P\": 0.5924555230736059, \n",
        "        \"R\": 0.9956439393939395, \n",
        "        \"F1\": 0.7428043440950267\n",
        "    }, \n",
        "    \"all\": {\n",
        "        \"P\": 0.6037122024707842\n",
        "    }, \n",
        "    \"follow\": {\n",
        "        \"P\": 0.9416666666666667, \n",
        "        \"R\": 0.07323943661971831, \n",
        "        \"F1\": 0.13525256178420736\n",
        "    }\n",
        "}\n"
       ]
      }
     ],
     "prompt_number": 4
    },
    {
     "cell_type": "code",
     "collapsed": false,
     "input": [
      "%matplotlib inline"
     ],
     "language": "python",
     "metadata": {},
     "outputs": [],
     "prompt_number": 5
    },
    {
     "cell_type": "code",
     "collapsed": false,
     "input": [
      "import numpy as np\n",
      "import matplotlib.pyplot as plt"
     ],
     "language": "python",
     "metadata": {},
     "outputs": [],
     "prompt_number": 9
    },
    {
     "cell_type": "code",
     "collapsed": false,
     "input": [
      "fig, ax = plt.subplots()\n",
      "de_boni_p = (result['de_boni']['average']['new']['P'], \n",
      "             result['de_boni']['average']['follow']['P'], \n",
      "             result['de_boni']['average']['all']['P'])\n",
      "fan_yang_p = (result['fan_yang']['average']['new']['P'], \n",
      "              result['fan_yang']['average']['follow']['P'], \n",
      "              result['fan_yang']['average']['all']['P'], )\n",
      "my_method_p = (result['my_method']['average']['new']['P'], \n",
      "             result['my_method']['average']['follow']['P'], \n",
      "             result['my_method']['average']['all']['P'], )\n",
      "de_boni = ax.bar(ind, de_boni_p, width=width, color='r')\n",
      "fan_yang = ax.bar(ind+width, fan_yang_p, width=width, color='y')\n",
      "my_method = ax.bar(ind+width*2, my_method_p, width=width, color='b')"
     ],
     "language": "python",
     "metadata": {},
     "outputs": [
      {
       "metadata": {},
       "output_type": "display_data",
       "png": "[encoded data removed]",
       "text": [
        "<matplotlib.figure.Figure at 0x1a9222e8>"
       ]
      }
     ],
     "prompt_number": 19
    },
    {
     "cell_type": "code",
     "collapsed": false,
     "input": [
      "ind = np.arange(3)\n",
      "width = 0.35"
     ],
     "language": "python",
     "metadata": {},
     "outputs": [],
     "prompt_number": 11
    },
    {
     "cell_type": "code",
     "collapsed": false,
     "input": [
      "ax.bar?"
     ],
     "language": "python",
     "metadata": {},
     "outputs": [],
     "prompt_number": 12
    },
    {
     "cell_type": "code",
     "collapsed": false,
     "input": [
      "de_boni = ax.bar(ind, de_boni_p, width=width, color='r')\n",
      "fan_yang = ax.bar(ind+width, fan_yang_p, width=width, color='y')\n",
      "my_method = ax.bar(ind+width*2, my_method_p, width=width, color='b')"
     ],
     "language": "python",
     "metadata": {},
     "outputs": [],
     "prompt_number": 17
    },
    {
     "cell_type": "code",
     "collapsed": false,
     "input": [
      "plt.show()"
     ],
     "language": "python",
     "metadata": {},
     "outputs": [],
     "prompt_number": 18
    }
   ],
   "metadata": {}
  }
 ]
}