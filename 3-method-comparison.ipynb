{
 "metadata": {
  "name": "",
  "signature": "sha256:b97d359915b7e38c473d6a9d50bf5c107856e5eef05fe604c779168b77ba8c84"
 },
 "nbformat": 3,
 "nbformat_minor": 0,
 "worksheets": [
  {
   "cells": [
    {
     "cell_type": "code",
     "collapsed": false,
     "input": [
      "import experiment as e\n",
      "import method as m\n",
      "import json"
     ],
     "language": "python",
     "metadata": {},
     "outputs": [],
     "prompt_number": 1
    },
    {
     "cell_type": "code",
     "collapsed": false,
     "input": [
      "m.configure(e.method_config)"
     ],
     "language": "python",
     "metadata": {},
     "outputs": [],
     "prompt_number": 2
    },
    {
     "cell_type": "code",
     "collapsed": false,
     "input": [
      "e.prepare()"
     ],
     "language": "python",
     "metadata": {},
     "outputs": [],
     "prompt_number": 3
    },
    {
     "cell_type": "code",
     "collapsed": false,
     "input": [
      "result = {}\n",
      "for method_name in m.methods.iterkeys():\n",
      "    result[method_name] = e.k_fold_cross(5, 500, method_name, 'comparison-{}'.format(method_name))"
     ],
     "language": "python",
     "metadata": {},
     "outputs": [],
     "prompt_number": 4
    },
    {
     "cell_type": "code",
     "collapsed": false,
     "input": [
      "for i in result:\n",
      "    print i, json.dumps(result[i]['average'], indent=4)"
     ],
     "language": "python",
     "metadata": {},
     "outputs": [
      {
       "output_type": "stream",
       "stream": "stdout",
       "text": [
        "fan_yang {\n",
        "    \"new\": {\n",
        "        \"P\": 0.6804237433099043, \n",
        "        \"R\": 0.544778669043375, \n",
        "        \"F1\": 0.597671005587534\n",
        "    }, \n",
        "    \"all\": {\n",
        "        \"P\": 0.5849632534537015\n",
        "    }, \n",
        "    \"follow\": {\n",
        "        \"P\": 0.5078864769785486, \n",
        "        \"R\": 0.6366197183098592, \n",
        "        \"F1\": 0.5602783613232948\n",
        "    }\n",
        "}\n",
        "my_method {\n",
        "    \"new\": {\n",
        "        \"P\": 0.8239187169419727, \n",
        "        \"R\": 0.7105020796197267, \n",
        "        \"F1\": 0.7620422675205492\n",
        "    }, \n",
        "    \"all\": {\n",
        "        \"P\": 0.744512420182186\n",
        "    }, \n",
        "    \"follow\": {\n",
        "        \"P\": 0.6681678645771966, \n",
        "        \"R\": 0.7915492957746479, \n",
        "        \"F1\": 0.7236741124903942\n",
        "    }\n",
        "}\n",
        "de_boni {\n",
        "    \"new\": {\n",
        "        \"P\": 0.5924555230736059, \n",
        "        \"R\": 0.9956439393939395, \n",
        "        \"F1\": 0.7428043440950267\n",
        "    }, \n",
        "    \"all\": {\n",
        "        \"P\": 0.6037122024707842\n",
        "    }, \n",
        "    \"follow\": {\n",
        "        \"P\": 0.9416666666666667, \n",
        "        \"R\": 0.07323943661971831, \n",
        "        \"F1\": 0.13525256178420736\n",
        "    }\n",
        "}\n"
       ]
      }
     ],
     "prompt_number": 5
    },
    {
     "cell_type": "code",
     "collapsed": false,
     "input": [
      "import codecs\n",
      "with codecs.open('data/3-method-comparison.json', encoding='utf-8', mode='wb') as f:\n",
      "    json.dump(result, f, indent=4)"
     ],
     "language": "python",
     "metadata": {},
     "outputs": [],
     "prompt_number": 5
    },
    {
     "cell_type": "code",
     "collapsed": false,
     "input": [
      "%matplotlib inline"
     ],
     "language": "python",
     "metadata": {},
     "outputs": [],
     "prompt_number": 6
    },
    {
     "cell_type": "code",
     "collapsed": false,
     "input": [
      "import numpy as np\n",
      "import matplotlib.pyplot as plt"
     ],
     "language": "python",
     "metadata": {},
     "outputs": [],
     "prompt_number": 7
    },
    {
     "cell_type": "code",
     "collapsed": false,
     "input": [
      "x = ('new', 'follow')\n",
      "data = {}\n",
      "for name in result:\n",
      "    data[name] = []\n",
      "    d = data[name]\n",
      "    r = result[name]\n",
      "    for i in x:\n",
      "        d.append(r['average'][i]['F1'])"
     ],
     "language": "python",
     "metadata": {},
     "outputs": [],
     "prompt_number": 17
    },
    {
     "cell_type": "code",
     "collapsed": false,
     "input": [
      "ind = np.arange(2)\n",
      "width = 0.1\n",
      "fig, ax = plt.subplots()\n",
      "de_boni = ax.bar(ind, data['de_boni'], width=width, color='r', label='de_boni')\n",
      "fan_yang = ax.bar(ind+width, data['fan_yang'], width=width, color='g', label='fan_yang')\n",
      "my_method = ax.bar(ind+width*2, data['my_method'], width=width, color='b', label='my_method')\n",
      "ax.set_xticks(ind+width)\n",
      "ax.set_xticklabels( ('new', 'follow'))\n",
      "ax.legend(loc='upper center')\n",
      "def autolabel(rects):\n",
      "    # attach some text labels\n",
      "    for rect in rects:\n",
      "        height = rect.get_height()\n",
      "        ax.text(rect.get_x()+rect.get_width()/2., 1.05*height, '{:.3f}'.format(height),\n",
      "                ha='center', va='bottom')\n",
      "\n",
      "autolabel(de_boni)\n",
      "autolabel(fan_yang)\n",
      "autolabel(my_method)"
     ],
     "language": "python",
     "metadata": {},
     "outputs": [
      {
       "metadata": {},
       "output_type": "display_data",
       "png": "[encoded data removed]",
       "text": [
        "<matplotlib.figure.Figure at 0xbe56ad0>"
       ]
      }
     ],
     "prompt_number": 27
    },
    {
     "cell_type": "code",
     "collapsed": false,
     "input": [
      "ax.legend?"
     ],
     "language": "python",
     "metadata": {},
     "outputs": [],
     "prompt_number": 23
    },
    {
     "cell_type": "code",
     "collapsed": false,
     "input": [],
     "language": "python",
     "metadata": {},
     "outputs": []
    }
   ],
   "metadata": {}
  }
 ]
}