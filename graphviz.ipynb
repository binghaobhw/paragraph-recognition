{
 "metadata": {
  "name": "",
  "signature": "sha256:192d41b5f5fc90b1c15b359fb2ec8050310802f169dcc439d70fa4815ae7af4d"
 },
 "nbformat": 3,
 "nbformat_minor": 0,
 "worksheets": [
  {
   "cells": [
    {
     "cell_type": "code",
     "collapsed": false,
     "input": [
      "import experiment as e\n",
      "import method as m"
     ],
     "language": "python",
     "metadata": {},
     "outputs": [],
     "prompt_number": 2
    },
    {
     "cell_type": "code",
     "collapsed": false,
     "input": [
      "e.method_config['method']['my_method']['train_data_filename'] = 'data/500/word-embedding/window-size-3/analyze-feature/5-fold-cross-origin-train-data-0.txt'"
     ],
     "language": "python",
     "metadata": {},
     "outputs": [],
     "prompt_number": 6
    },
    {
     "cell_type": "code",
     "collapsed": false,
     "input": [
      "e.method_config['method']['my_method']['train_data_filename']"
     ],
     "language": "python",
     "metadata": {},
     "outputs": [
      {
       "metadata": {},
       "output_type": "pyout",
       "prompt_number": 7,
       "text": [
        "'data/500/word-embedding/window-size-3/analyze-feature/5-fold-cross-origin-train-data-0.txt'"
       ]
      }
     ],
     "prompt_number": 7
    },
    {
     "cell_type": "code",
     "collapsed": false,
     "input": [
      "m.configure(e.method_config)"
     ],
     "language": "python",
     "metadata": {},
     "outputs": [],
     "prompt_number": 8
    },
    {
     "cell_type": "code",
     "collapsed": false,
     "input": [
      "my_method = m.methods['my_method']"
     ],
     "language": "python",
     "metadata": {},
     "outputs": [],
     "prompt_number": 10
    },
    {
     "cell_type": "code",
     "collapsed": false,
     "input": [
      "my_method.train_data_filename"
     ],
     "language": "python",
     "metadata": {},
     "outputs": [
      {
       "metadata": {},
       "output_type": "pyout",
       "prompt_number": 13,
       "text": [
        "'data/500/word-embedding/window-size-3/analyze-feature/5-fold-cross-origin-train-data-0.txt'"
       ]
      }
     ],
     "prompt_number": 13
    },
    {
     "cell_type": "code",
     "collapsed": false,
     "input": [
      "my_method.train()"
     ],
     "language": "python",
     "metadata": {},
     "outputs": [],
     "prompt_number": 11
    },
    {
     "cell_type": "code",
     "collapsed": false,
     "input": [
      "my_method.feature_names"
     ],
     "language": "python",
     "metadata": {},
     "outputs": [
      {
       "metadata": {},
       "output_type": "pyout",
       "prompt_number": 18,
       "text": [
        "['pronoun',\n",
        " 'cue_word',\n",
        " 'noun',\n",
        " 'sbv_and_vob',\n",
        " 'same_named_entity',\n",
        " 'word_recurrence_rate',\n",
        " 'adjacent_question_length_difference',\n",
        " 'largest_similarity']"
       ]
      }
     ],
     "prompt_number": 18
    },
    {
     "cell_type": "code",
     "collapsed": false,
     "input": [
      "feature_names = ['\u4ee3\u8bcd', '\u7ebf\u7d22\u8bcd', '\u540d\u8bcd', '\u53e5\u6cd5\u7ed3\u6784', '\u76f8\u540c\u547d\u540d\u5b9e\u4f53', '\u8bcd\u91cd\u73b0\u7387', '\u76f8\u90bb\u95ee\u9898\u957f\u5ea6\u5dee', '\u8bed\u4e49\u76f8\u4f3c\u5ea6']"
     ],
     "language": "python",
     "metadata": {},
     "outputs": [],
     "prompt_number": 24
    },
    {
     "cell_type": "code",
     "collapsed": false,
     "input": [
      "from sklearn import tree\n",
      "with open(\"data/my_method.dot\", 'w') as f:\n",
      "    f = tree.export_graphviz(my_method.classifier, out_file=f,feature_names=my_method.feature_names)"
     ],
     "language": "python",
     "metadata": {},
     "outputs": [],
     "prompt_number": 26
    },
    {
     "cell_type": "code",
     "collapsed": false,
     "input": [
      "tree.export_graphviz?"
     ],
     "language": "python",
     "metadata": {},
     "outputs": [],
     "prompt_number": 16
    }
   ],
   "metadata": {}
  }
 ]
}