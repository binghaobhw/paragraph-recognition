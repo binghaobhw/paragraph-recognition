{
 "metadata": {
  "name": "",
  "signature": "sha256:273bbdbd349269734be7ad077821aa3b5c92ba03ff05238849c53625b0c2c025"
 },
 "nbformat": 3,
 "nbformat_minor": 0,
 "worksheets": [
  {
   "cells": [
    {
     "cell_type": "code",
     "collapsed": false,
     "input": [
      "import re\n",
      "import codecs\n",
      "from data_access import Session, FilteredParagraph, Paragraph\n",
      "from operator import itemgetter"
     ],
     "language": "python",
     "metadata": {},
     "outputs": [],
     "prompt_number": 1
    },
    {
     "cell_type": "code",
     "collapsed": false,
     "input": [
      "categories = []\n",
      "with codecs.open('data/all-category.txt', encoding='utf-8') as f:\n",
      "    sub = False\n",
      "    category = {}\n",
      "    for line in f:\n",
      "        line = line.strip()\n",
      "        if line == '':\n",
      "            sub = False\n",
      "            continue\n",
      "        name, url = line.split(',', 1)\n",
      "        id = int(re.findall(r'/(\\d+)', url)[0])\n",
      "        if sub:\n",
      "            category['sub'].append({'name': name, 'url': url, 'id': id})\n",
      "        else:\n",
      "            category = {'name': name, 'url': url, 'id': id, 'sub': []}\n",
      "            categories.append(category)\n",
      "            sub = True"
     ],
     "language": "python",
     "metadata": {},
     "outputs": [],
     "prompt_number": 2
    },
    {
     "cell_type": "code",
     "collapsed": false,
     "input": [
      "category_map = {}\n",
      "category_distribution = {}\n",
      "filtered_category_distribution = {}\n",
      "for top_category in categories:\n",
      "    top_id = top_category['id']\n",
      "    category_distribution[top_id] = 0\n",
      "    filtered_category_distribution[top_id] = 0\n",
      "    category_map[top_id] = top_id\n",
      "    for subcategory in top_category['sub']:\n",
      "        category_map[subcategory['id']] = top_id"
     ],
     "language": "python",
     "metadata": {},
     "outputs": [],
     "prompt_number": 3
    },
    {
     "cell_type": "code",
     "collapsed": false,
     "input": [
      "len(category_map)"
     ],
     "language": "python",
     "metadata": {},
     "outputs": [
      {
       "metadata": {},
       "output_type": "pyout",
       "prompt_number": 50,
       "text": [
        "445"
       ]
      }
     ],
     "prompt_number": 50
    },
    {
     "cell_type": "code",
     "collapsed": false,
     "input": [
      "for paragraph in Session.query(Paragraph):\n",
      "    category_id = int(paragraph.question.category_id)\n",
      "    if category_id in category_map:    \n",
      "        top_id = category_map[category_id]\n",
      "        category_distribution[top_id] += 1"
     ],
     "language": "python",
     "metadata": {},
     "outputs": [
      {
       "ename": "NameError",
       "evalue": "name 'filtered_category_distribution' is not defined",
       "output_type": "pyerr",
       "traceback": [
        "\u001b[1;31m---------------------------------------------------------------------------\u001b[0m\n\u001b[1;31mNameError\u001b[0m                                 Traceback (most recent call last)",
        "\u001b[1;32m<ipython-input-53-661213d14f1b>\u001b[0m in \u001b[0;36m<module>\u001b[1;34m()\u001b[0m\n\u001b[0;32m      9\u001b[0m     \u001b[1;32mif\u001b[0m \u001b[0mcategory_id\u001b[0m \u001b[1;32min\u001b[0m \u001b[0mcategory_map\u001b[0m\u001b[1;33m:\u001b[0m\u001b[1;33m\u001b[0m\u001b[0m\n\u001b[0;32m     10\u001b[0m         \u001b[0mtop_id\u001b[0m \u001b[1;33m=\u001b[0m \u001b[0mcategory_map\u001b[0m\u001b[1;33m[\u001b[0m\u001b[0mcategory_id\u001b[0m\u001b[1;33m]\u001b[0m\u001b[1;33m\u001b[0m\u001b[0m\n\u001b[1;32m---> 11\u001b[1;33m         \u001b[0mfiltered_category_distribution\u001b[0m\u001b[1;33m[\u001b[0m\u001b[0mtop_id\u001b[0m\u001b[1;33m]\u001b[0m \u001b[1;33m+=\u001b[0m \u001b[1;36m1\u001b[0m\u001b[1;33m\u001b[0m\u001b[0m\n\u001b[0m",
        "\u001b[1;31mNameError\u001b[0m: name 'filtered_category_distribution' is not defined"
       ]
      }
     ],
     "prompt_number": 53
    },
    {
     "cell_type": "code",
     "collapsed": false,
     "input": [
      "sorted(category_distribution.iteritems(), key=itemgetter(1), reverse=True)"
     ],
     "language": "python",
     "metadata": {},
     "outputs": [
      {
       "metadata": {},
       "output_type": "pyout",
       "prompt_number": 49,
       "text": [
        "[(74, 5075),\n",
        " (79, 1816),\n",
        " (81, 1689),\n",
        " (80, 1514),\n",
        " (95, 1126),\n",
        " (84, 1093),\n",
        " (77, 902),\n",
        " (78, 804),\n",
        " (82, 751),\n",
        " (1031, 736),\n",
        " (83, 670),\n",
        " (85, 641),\n",
        " (1101, 382)]"
       ]
      }
     ],
     "prompt_number": 49
    },
    {
     "cell_type": "code",
     "collapsed": false,
     "input": [
      "for filtered_paragraph in Session.query(FilteredParagraph).limit(500):\n",
      "    category_id = int(filtered_paragraph.paragraph.question.category_id)\n",
      "    if category_id in category_map:    \n",
      "        top_id = category_map[category_id]\n",
      "        filtered_category_distribution[top_id] += 1"
     ],
     "language": "python",
     "metadata": {},
     "outputs": [],
     "prompt_number": 4
    },
    {
     "cell_type": "code",
     "collapsed": false,
     "input": [
      "sorted(filtered_category_distribution.iteritems(), key=itemgetter(1), reverse=True)"
     ],
     "language": "python",
     "metadata": {},
     "outputs": [
      {
       "metadata": {},
       "output_type": "pyout",
       "prompt_number": 5,
       "text": [
        "[(74, 266),\n",
        " (80, 111),\n",
        " (79, 46),\n",
        " (95, 37),\n",
        " (78, 31),\n",
        " (83, 3),\n",
        " (1031, 2),\n",
        " (77, 2),\n",
        " (81, 1),\n",
        " (1101, 0),\n",
        " (82, 0),\n",
        " (84, 0),\n",
        " (85, 0)]"
       ]
      }
     ],
     "prompt_number": 5
    },
    {
     "cell_type": "code",
     "collapsed": false,
     "input": [
      "266.0/500"
     ],
     "language": "python",
     "metadata": {},
     "outputs": [
      {
       "metadata": {},
       "output_type": "pyout",
       "prompt_number": 7,
       "text": [
        "0.532"
       ]
      }
     ],
     "prompt_number": 7
    }
   ],
   "metadata": {}
  }
 ]
}